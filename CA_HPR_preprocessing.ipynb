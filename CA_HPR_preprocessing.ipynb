{
 "cells": [
  {
   "cell_type": "code",
   "execution_count": 2,
   "id": "2c24f24f",
   "metadata": {},
   "outputs": [],
   "source": [
    "import pandas as pd"
   ]
  },
  {
   "cell_type": "code",
   "execution_count": 3,
   "id": "1aa43c3d",
   "metadata": {},
   "outputs": [],
   "source": [
    "df = pd.read_csv('/Users/danielyeo/Desktop/CA_hospital_ratings.csv')"
   ]
  },
  {
   "cell_type": "code",
   "execution_count": 4,
   "id": "b8777714",
   "metadata": {},
   "outputs": [
    {
     "data": {
      "text/html": [
       "<div>\n",
       "<style scoped>\n",
       "    .dataframe tbody tr th:only-of-type {\n",
       "        vertical-align: middle;\n",
       "    }\n",
       "\n",
       "    .dataframe tbody tr th {\n",
       "        vertical-align: top;\n",
       "    }\n",
       "\n",
       "    .dataframe thead th {\n",
       "        text-align: right;\n",
       "    }\n",
       "</style>\n",
       "<table border=\"1\" class=\"dataframe\">\n",
       "  <thead>\n",
       "    <tr style=\"text-align: right;\">\n",
       "      <th></th>\n",
       "      <th>_id</th>\n",
       "      <th>Year</th>\n",
       "      <th>County</th>\n",
       "      <th>Hospital</th>\n",
       "      <th>OSHPDID</th>\n",
       "      <th>system</th>\n",
       "      <th>Type of Report</th>\n",
       "      <th>Performance Measure</th>\n",
       "      <th># of Adverse Events</th>\n",
       "      <th># of Cases</th>\n",
       "      <th>Risk-adjusted Rate</th>\n",
       "      <th>Hospital Ratings</th>\n",
       "      <th>Latitude</th>\n",
       "      <th>Longitude</th>\n",
       "    </tr>\n",
       "  </thead>\n",
       "  <tbody>\n",
       "    <tr>\n",
       "      <th>0</th>\n",
       "      <td>1</td>\n",
       "      <td>2017</td>\n",
       "      <td>Alameda</td>\n",
       "      <td>Alameda Hospital</td>\n",
       "      <td>106010735</td>\n",
       "      <td>Alameda Health System</td>\n",
       "      <td>IMI</td>\n",
       "      <td>PCI</td>\n",
       "      <td>NaN</td>\n",
       "      <td>NaN</td>\n",
       "      <td>NaN</td>\n",
       "      <td>NaN</td>\n",
       "      <td>37.76266</td>\n",
       "      <td>-122.253</td>\n",
       "    </tr>\n",
       "    <tr>\n",
       "      <th>1</th>\n",
       "      <td>2</td>\n",
       "      <td>2017</td>\n",
       "      <td>Alameda</td>\n",
       "      <td>Alameda Hospital</td>\n",
       "      <td>106010735</td>\n",
       "      <td>Alameda Health System</td>\n",
       "      <td>IMI</td>\n",
       "      <td>Acute Stroke Ischemic</td>\n",
       "      <td>3.0</td>\n",
       "      <td>102.0</td>\n",
       "      <td>6.1</td>\n",
       "      <td>As Expected</td>\n",
       "      <td>37.76266</td>\n",
       "      <td>-122.253</td>\n",
       "    </tr>\n",
       "    <tr>\n",
       "      <th>2</th>\n",
       "      <td>3</td>\n",
       "      <td>2017</td>\n",
       "      <td>Alameda</td>\n",
       "      <td>Alameda Hospital</td>\n",
       "      <td>106010735</td>\n",
       "      <td>Alameda Health System</td>\n",
       "      <td>IMI</td>\n",
       "      <td>Pancreatic Resection</td>\n",
       "      <td>NaN</td>\n",
       "      <td>NaN</td>\n",
       "      <td>NaN</td>\n",
       "      <td>NaN</td>\n",
       "      <td>37.76266</td>\n",
       "      <td>-122.253</td>\n",
       "    </tr>\n",
       "    <tr>\n",
       "      <th>3</th>\n",
       "      <td>4</td>\n",
       "      <td>2017</td>\n",
       "      <td>Alameda</td>\n",
       "      <td>Alameda Hospital</td>\n",
       "      <td>106010735</td>\n",
       "      <td>Alameda Health System</td>\n",
       "      <td>IMI</td>\n",
       "      <td>Acute Stroke Subarachnoid</td>\n",
       "      <td>NaN</td>\n",
       "      <td>NaN</td>\n",
       "      <td>NaN</td>\n",
       "      <td>NaN</td>\n",
       "      <td>37.76266</td>\n",
       "      <td>-122.253</td>\n",
       "    </tr>\n",
       "    <tr>\n",
       "      <th>4</th>\n",
       "      <td>5</td>\n",
       "      <td>2017</td>\n",
       "      <td>Alameda</td>\n",
       "      <td>Alameda Hospital</td>\n",
       "      <td>106010735</td>\n",
       "      <td>Alameda Health System</td>\n",
       "      <td>IMI</td>\n",
       "      <td>Carotid Endarterectomy</td>\n",
       "      <td>0.0</td>\n",
       "      <td>3.0</td>\n",
       "      <td>0.0</td>\n",
       "      <td>As Expected</td>\n",
       "      <td>37.76266</td>\n",
       "      <td>-122.253</td>\n",
       "    </tr>\n",
       "  </tbody>\n",
       "</table>\n",
       "</div>"
      ],
      "text/plain": [
       "   _id  Year   County          Hospital    OSHPDID                 system  \\\n",
       "0    1  2017  Alameda  Alameda Hospital  106010735  Alameda Health System   \n",
       "1    2  2017  Alameda  Alameda Hospital  106010735  Alameda Health System   \n",
       "2    3  2017  Alameda  Alameda Hospital  106010735  Alameda Health System   \n",
       "3    4  2017  Alameda  Alameda Hospital  106010735  Alameda Health System   \n",
       "4    5  2017  Alameda  Alameda Hospital  106010735  Alameda Health System   \n",
       "\n",
       "  Type of Report        Performance Measure  # of Adverse Events  # of Cases  \\\n",
       "0            IMI                        PCI                  NaN         NaN   \n",
       "1            IMI      Acute Stroke Ischemic                  3.0       102.0   \n",
       "2            IMI       Pancreatic Resection                  NaN         NaN   \n",
       "3            IMI  Acute Stroke Subarachnoid                  NaN         NaN   \n",
       "4            IMI     Carotid Endarterectomy                  0.0         3.0   \n",
       "\n",
       "   Risk-adjusted Rate Hospital Ratings  Latitude  Longitude  \n",
       "0                 NaN              NaN  37.76266   -122.253  \n",
       "1                 6.1      As Expected  37.76266   -122.253  \n",
       "2                 NaN              NaN  37.76266   -122.253  \n",
       "3                 NaN              NaN  37.76266   -122.253  \n",
       "4                 0.0      As Expected  37.76266   -122.253  "
      ]
     },
     "execution_count": 4,
     "metadata": {},
     "output_type": "execute_result"
    }
   ],
   "source": [
    "df.head()"
   ]
  },
  {
   "cell_type": "code",
   "execution_count": 5,
   "id": "a985df0a",
   "metadata": {},
   "outputs": [
    {
     "data": {
      "text/plain": [
       "Hospital Ratings\n",
       "As Expected    17787\n",
       "Better           876\n",
       "Worse            824\n",
       "Name: count, dtype: int64"
      ]
     },
     "execution_count": 5,
     "metadata": {},
     "output_type": "execute_result"
    }
   ],
   "source": [
    "df['Hospital Ratings'].value_counts()"
   ]
  },
  {
   "cell_type": "code",
   "execution_count": 6,
   "id": "1630d8e1",
   "metadata": {},
   "outputs": [
    {
     "data": {
      "text/plain": [
       "_id                       0\n",
       "Year                      0\n",
       "County                    0\n",
       "Hospital                  0\n",
       "OSHPDID                   0\n",
       "system                    0\n",
       "Type of Report            0\n",
       "Performance Measure       0\n",
       "# of Adverse Events    8059\n",
       "# of Cases             7941\n",
       "Risk-adjusted Rate     8192\n",
       "Hospital Ratings       7941\n",
       "Latitude                 62\n",
       "Longitude                62\n",
       "dtype: int64"
      ]
     },
     "execution_count": 6,
     "metadata": {},
     "output_type": "execute_result"
    }
   ],
   "source": [
    "df.isnull().sum()"
   ]
  },
  {
   "cell_type": "code",
   "execution_count": 7,
   "id": "7298b1d6",
   "metadata": {},
   "outputs": [
    {
     "data": {
      "text/plain": [
       "(27428, 14)"
      ]
     },
     "execution_count": 7,
     "metadata": {},
     "output_type": "execute_result"
    }
   ],
   "source": [
    "df.shape"
   ]
  },
  {
   "cell_type": "code",
   "execution_count": 8,
   "id": "d097dbf4",
   "metadata": {},
   "outputs": [],
   "source": [
    "df.dropna(inplace=True)"
   ]
  },
  {
   "cell_type": "code",
   "execution_count": 9,
   "id": "fc5e444f",
   "metadata": {},
   "outputs": [
    {
     "data": {
      "text/plain": [
       "(19198, 14)"
      ]
     },
     "execution_count": 9,
     "metadata": {},
     "output_type": "execute_result"
    }
   ],
   "source": [
    "df.shape"
   ]
  },
  {
   "cell_type": "code",
   "execution_count": 10,
   "id": "59012bee",
   "metadata": {},
   "outputs": [],
   "source": [
    "df.columns = df.columns.str.lower()"
   ]
  },
  {
   "cell_type": "code",
   "execution_count": 11,
   "id": "90720fdf",
   "metadata": {},
   "outputs": [
    {
     "data": {
      "text/html": [
       "<div>\n",
       "<style scoped>\n",
       "    .dataframe tbody tr th:only-of-type {\n",
       "        vertical-align: middle;\n",
       "    }\n",
       "\n",
       "    .dataframe tbody tr th {\n",
       "        vertical-align: top;\n",
       "    }\n",
       "\n",
       "    .dataframe thead th {\n",
       "        text-align: right;\n",
       "    }\n",
       "</style>\n",
       "<table border=\"1\" class=\"dataframe\">\n",
       "  <thead>\n",
       "    <tr style=\"text-align: right;\">\n",
       "      <th></th>\n",
       "      <th>_id</th>\n",
       "      <th>year</th>\n",
       "      <th>county</th>\n",
       "      <th>hospital</th>\n",
       "      <th>oshpdid</th>\n",
       "      <th>system</th>\n",
       "      <th>type of report</th>\n",
       "      <th>performance measure</th>\n",
       "      <th># of adverse events</th>\n",
       "      <th># of cases</th>\n",
       "      <th>risk-adjusted rate</th>\n",
       "      <th>hospital ratings</th>\n",
       "      <th>latitude</th>\n",
       "      <th>longitude</th>\n",
       "    </tr>\n",
       "  </thead>\n",
       "  <tbody>\n",
       "    <tr>\n",
       "      <th>1</th>\n",
       "      <td>2</td>\n",
       "      <td>2017</td>\n",
       "      <td>Alameda</td>\n",
       "      <td>Alameda Hospital</td>\n",
       "      <td>106010735</td>\n",
       "      <td>Alameda Health System</td>\n",
       "      <td>IMI</td>\n",
       "      <td>Acute Stroke Ischemic</td>\n",
       "      <td>3.0</td>\n",
       "      <td>102.0</td>\n",
       "      <td>6.1</td>\n",
       "      <td>As Expected</td>\n",
       "      <td>37.76266</td>\n",
       "      <td>-122.253</td>\n",
       "    </tr>\n",
       "    <tr>\n",
       "      <th>4</th>\n",
       "      <td>5</td>\n",
       "      <td>2017</td>\n",
       "      <td>Alameda</td>\n",
       "      <td>Alameda Hospital</td>\n",
       "      <td>106010735</td>\n",
       "      <td>Alameda Health System</td>\n",
       "      <td>IMI</td>\n",
       "      <td>Carotid Endarterectomy</td>\n",
       "      <td>0.0</td>\n",
       "      <td>3.0</td>\n",
       "      <td>0.0</td>\n",
       "      <td>As Expected</td>\n",
       "      <td>37.76266</td>\n",
       "      <td>-122.253</td>\n",
       "    </tr>\n",
       "    <tr>\n",
       "      <th>5</th>\n",
       "      <td>6</td>\n",
       "      <td>2017</td>\n",
       "      <td>Alameda</td>\n",
       "      <td>Alameda Hospital</td>\n",
       "      <td>106010735</td>\n",
       "      <td>Alameda Health System</td>\n",
       "      <td>IMI</td>\n",
       "      <td>Pneumonia</td>\n",
       "      <td>5.0</td>\n",
       "      <td>98.0</td>\n",
       "      <td>6.1</td>\n",
       "      <td>As Expected</td>\n",
       "      <td>37.76266</td>\n",
       "      <td>-122.253</td>\n",
       "    </tr>\n",
       "    <tr>\n",
       "      <th>6</th>\n",
       "      <td>7</td>\n",
       "      <td>2017</td>\n",
       "      <td>Alameda</td>\n",
       "      <td>Alameda Hospital</td>\n",
       "      <td>106010735</td>\n",
       "      <td>Alameda Health System</td>\n",
       "      <td>IMI</td>\n",
       "      <td>Heart Failure</td>\n",
       "      <td>5.0</td>\n",
       "      <td>137.0</td>\n",
       "      <td>3.4</td>\n",
       "      <td>As Expected</td>\n",
       "      <td>37.76266</td>\n",
       "      <td>-122.253</td>\n",
       "    </tr>\n",
       "    <tr>\n",
       "      <th>7</th>\n",
       "      <td>8</td>\n",
       "      <td>2017</td>\n",
       "      <td>Alameda</td>\n",
       "      <td>Alameda Hospital</td>\n",
       "      <td>106010735</td>\n",
       "      <td>Alameda Health System</td>\n",
       "      <td>IMI</td>\n",
       "      <td>GI Hemorrhage</td>\n",
       "      <td>0.0</td>\n",
       "      <td>85.0</td>\n",
       "      <td>0.0</td>\n",
       "      <td>As Expected</td>\n",
       "      <td>37.76266</td>\n",
       "      <td>-122.253</td>\n",
       "    </tr>\n",
       "  </tbody>\n",
       "</table>\n",
       "</div>"
      ],
      "text/plain": [
       "   _id  year   county          hospital    oshpdid                 system  \\\n",
       "1    2  2017  Alameda  Alameda Hospital  106010735  Alameda Health System   \n",
       "4    5  2017  Alameda  Alameda Hospital  106010735  Alameda Health System   \n",
       "5    6  2017  Alameda  Alameda Hospital  106010735  Alameda Health System   \n",
       "6    7  2017  Alameda  Alameda Hospital  106010735  Alameda Health System   \n",
       "7    8  2017  Alameda  Alameda Hospital  106010735  Alameda Health System   \n",
       "\n",
       "  type of report     performance measure  # of adverse events  # of cases  \\\n",
       "1            IMI   Acute Stroke Ischemic                  3.0       102.0   \n",
       "4            IMI  Carotid Endarterectomy                  0.0         3.0   \n",
       "5            IMI               Pneumonia                  5.0        98.0   \n",
       "6            IMI           Heart Failure                  5.0       137.0   \n",
       "7            IMI           GI Hemorrhage                  0.0        85.0   \n",
       "\n",
       "   risk-adjusted rate hospital ratings  latitude  longitude  \n",
       "1                 6.1      As Expected  37.76266   -122.253  \n",
       "4                 0.0      As Expected  37.76266   -122.253  \n",
       "5                 6.1      As Expected  37.76266   -122.253  \n",
       "6                 3.4      As Expected  37.76266   -122.253  \n",
       "7                 0.0      As Expected  37.76266   -122.253  "
      ]
     },
     "execution_count": 11,
     "metadata": {},
     "output_type": "execute_result"
    }
   ],
   "source": [
    "df.head()"
   ]
  },
  {
   "cell_type": "code",
   "execution_count": 12,
   "id": "74603c0b",
   "metadata": {},
   "outputs": [],
   "source": [
    "df.to_csv('cahpr.csv', index=False)"
   ]
  }
 ],
 "metadata": {
  "kernelspec": {
   "display_name": "Python 3 (ipykernel)",
   "language": "python",
   "name": "python3"
  },
  "language_info": {
   "codemirror_mode": {
    "name": "ipython",
    "version": 3
   },
   "file_extension": ".py",
   "mimetype": "text/x-python",
   "name": "python",
   "nbconvert_exporter": "python",
   "pygments_lexer": "ipython3",
   "version": "3.11.5"
  }
 },
 "nbformat": 4,
 "nbformat_minor": 5
}
